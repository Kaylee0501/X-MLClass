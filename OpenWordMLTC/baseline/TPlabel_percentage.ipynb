{
 "cells": [
  {
   "cell_type": "code",
   "execution_count": 1,
   "metadata": {},
   "outputs": [],
   "source": [
    "import os\n",
    "import numpy as np\n",
    "os.environ[\"CUDA_DEVICE_ORDER\"]=\"PCI_BUS_ID\" \n",
    "os.environ[\"CUDA_VISIBLE_DEVICES\"] = \"1\" "
   ]
  },
  {
   "cell_type": "code",
   "execution_count": 41,
   "metadata": {},
   "outputs": [],
   "source": [
    "file1 = open('../../datasets/Reuters-21578/predictLabels/label_user.txt', 'r')\n",
    "documents = file1.readlines()  "
   ]
  },
  {
   "cell_type": "code",
   "execution_count": 42,
   "metadata": {},
   "outputs": [],
   "source": [
    "predict_label_space = []\n",
    "for doc in documents:\n",
    "    predict_label_space.append(doc.strip())"
   ]
  },
  {
   "cell_type": "code",
   "execution_count": 44,
   "metadata": {},
   "outputs": [],
   "source": [
    "file2 = open('../../datasets/Reuters-21578/test_label.txt', 'r')\n",
    "labels = file2.readlines()  "
   ]
  },
  {
   "cell_type": "code",
   "execution_count": 56,
   "metadata": {},
   "outputs": [
    {
     "data": {
      "text/plain": [
       "['trade',\n",
       " 'grain',\n",
       " 'nat-gas',\n",
       " 'crude',\n",
       " 'rubber',\n",
       " 'tin',\n",
       " 'sugar',\n",
       " 'corn',\n",
       " 'rice',\n",
       " 'palm-oil',\n",
       " 'veg-oil',\n",
       " 'ship',\n",
       " 'coffee',\n",
       " 'lumber',\n",
       " 'wheat',\n",
       " 'gold',\n",
       " 'acq',\n",
       " 'interest',\n",
       " 'money-fx',\n",
       " 'copper',\n",
       " 'ipi',\n",
       " 'soybean',\n",
       " 'oilseed',\n",
       " 'carcass',\n",
       " 'livestock',\n",
       " 'earn',\n",
       " 'bop',\n",
       " 'lead',\n",
       " 'gas',\n",
       " 'jobs',\n",
       " 'zinc',\n",
       " 'cpi',\n",
       " 'gnp',\n",
       " 'soy-oil',\n",
       " 'yen',\n",
       " 'dlr',\n",
       " 'nickel',\n",
       " 'groundnut',\n",
       " 'heat',\n",
       " 'sunseed',\n",
       " 'sorghum',\n",
       " 'pet-chem',\n",
       " 'cocoa',\n",
       " 'rapeseed',\n",
       " 'cotton',\n",
       " 'money-supply',\n",
       " 'iron-steel',\n",
       " 'l-cattle',\n",
       " 'alum',\n",
       " 'palladium',\n",
       " 'strategic-metal',\n",
       " 'platinum',\n",
       " 'reserves',\n",
       " 'meal-feed',\n",
       " 'sun-oil',\n",
       " 'rape-oil',\n",
       " 'groundnut-oil',\n",
       " 'lin-oil',\n",
       " 'sun-meal',\n",
       " 'hog',\n",
       " 'barley',\n",
       " 'potato',\n",
       " 'orange',\n",
       " 'retail',\n",
       " 'soy-meal',\n",
       " 'oat',\n",
       " 'cotton-oil',\n",
       " 'fuel',\n",
       " 'silver',\n",
       " 'income',\n",
       " 'wpi',\n",
       " 'tea',\n",
       " 'lei',\n",
       " 'coconut-oil',\n",
       " 'copra-cake',\n",
       " 'coconut',\n",
       " 'dmk',\n",
       " 'dfl',\n",
       " 'naphtha',\n",
       " 'propane',\n",
       " 'instal-debt',\n",
       " 'nzdlr',\n",
       " 'housing',\n",
       " 'nkr',\n",
       " 'rye',\n",
       " 'castor-oil',\n",
       " 'jet',\n",
       " 'palmkernel',\n",
       " 'cpu',\n",
       " 'rand']"
      ]
     },
     "execution_count": 56,
     "metadata": {},
     "output_type": "execute_result"
    }
   ],
   "source": [
    "true_label = []\n",
    "for row in labels:\n",
    "    label_list = row.strip().split(' ')\n",
    "    for label in label_list:\n",
    "        if not label in true_label:\n",
    "            true_label.append(label)\n",
    "true_label"
   ]
  },
  {
   "cell_type": "code",
   "execution_count": 6,
   "metadata": {},
   "outputs": [
    {
     "name": "stdout",
     "output_type": "stream",
     "text": [
      "Similarity: tensor([[0.7585, 1.0000]])\n"
     ]
    }
   ],
   "source": [
    "from sentence_transformers import SentenceTransformer, util\n",
    "model = SentenceTransformer('sentence-transformers/all-MiniLM-L6-v2')\n",
    "\n",
    "query_embedding = model.encode('Computer Science')\n",
    "passage_embedding = model.encode(['Computational Science',\n",
    "                                  'Computer Science'])\n",
    "\n",
    "print(\"Similarity:\", util.dot_score(query_embedding, passage_embedding))"
   ]
  },
  {
   "cell_type": "code",
   "execution_count": 47,
   "metadata": {},
   "outputs": [],
   "source": [
    "passage_embedding = model.encode(true_label)"
   ]
  },
  {
   "cell_type": "code",
   "execution_count": 48,
   "metadata": {},
   "outputs": [],
   "source": [
    "sim_matrix = np.empty((0,len(true_label)))\n",
    "for i in range(len(predict_label_space)):\n",
    "    query_embedding = model.encode(predict_label_space[i])\n",
    "    sim_matrix = np.append(sim_matrix, util.dot_score(query_embedding, passage_embedding).numpy(), 0)"
   ]
  },
  {
   "cell_type": "code",
   "execution_count": 49,
   "metadata": {},
   "outputs": [
    {
     "data": {
      "text/plain": [
       "(85, 90)"
      ]
     },
     "execution_count": 49,
     "metadata": {},
     "output_type": "execute_result"
    }
   ],
   "source": [
    "sim_matrix.shape"
   ]
  },
  {
   "cell_type": "code",
   "execution_count": 50,
   "metadata": {},
   "outputs": [],
   "source": [
    "sim_array = sim_matrix.max(axis=1)"
   ]
  },
  {
   "cell_type": "code",
   "execution_count": 54,
   "metadata": {},
   "outputs": [
    {
     "data": {
      "text/plain": [
       "15"
      ]
     },
     "execution_count": 54,
     "metadata": {},
     "output_type": "execute_result"
    }
   ],
   "source": [
    "count = 0\n",
    "for sim in sim_array:\n",
    "    if sim > 0.6:\n",
    "        count +=1\n",
    "count"
   ]
  },
  {
   "cell_type": "code",
   "execution_count": 55,
   "metadata": {},
   "outputs": [
    {
     "data": {
      "text/plain": [
       "[[11, 'Retail Sales', 63, 'retail', 0.8805943727493286],\n",
       " [13, 'Earnings', 25, 'earn', 0.6168959140777588],\n",
       " [13, 'Earnings', 69, 'income', 0.6541888117790222],\n",
       " [15, 'Oil and Gas', 28, 'gas', 0.7158282399177551],\n",
       " [15, 'Oil and Gas', 67, 'fuel', 0.6818692088127136],\n",
       " [19, 'Shipping', 11, 'ship', 0.7106267213821411],\n",
       " [25, 'Agriculture', 24, 'livestock', 0.6434237957000732],\n",
       " [30, 'Coffee', 12, 'coffee', 0.9999999403953552],\n",
       " [30, 'Coffee', 71, 'tea', 0.6160335540771484],\n",
       " [37, 'Real Estate', 82, 'housing', 0.6607487201690674],\n",
       " [40, 'Soybean Exports', 21, 'soybean', 0.690209686756134],\n",
       " [44, 'Metal Trading', 50, 'strategic-metal', 0.7207976579666138],\n",
       " [46, 'Debt', 80, 'instal-debt', 0.6317770481109619],\n",
       " [53, 'Coffee Prices', 12, 'coffee', 0.6282552480697632],\n",
       " [65, 'Gas Supplies', 28, 'gas', 0.6856974363327026],\n",
       " [73, 'Wheat Harvest', 14, 'wheat', 0.7438153624534607],\n",
       " [74, 'Shipbuilding', 11, 'ship', 0.6174918413162231],\n",
       " [83, 'Trade', 0, 'trade', 0.9999999403953552]]"
      ]
     },
     "execution_count": 55,
     "metadata": {},
     "output_type": "execute_result"
    }
   ],
   "source": [
    "sim_list = []\n",
    "for i, sim_score in enumerate(sim_matrix):\n",
    "    for j in range(len(sim_score)):\n",
    "        if sim_score[j] > 0.6:\n",
    "            sim = [i, predict_label_space[i], j , true_label[j], sim_score[j]]\n",
    "            sim_list.append(sim)\n",
    "sim_list"
   ]
  },
  {
   "cell_type": "code",
   "execution_count": null,
   "metadata": {},
   "outputs": [],
   "source": []
  }
 ],
 "metadata": {
  "kernelspec": {
   "display_name": "Multi-Label",
   "language": "python",
   "name": "python3"
  },
  "language_info": {
   "codemirror_mode": {
    "name": "ipython",
    "version": 3
   },
   "file_extension": ".py",
   "mimetype": "text/x-python",
   "name": "python",
   "nbconvert_exporter": "python",
   "pygments_lexer": "ipython3",
   "version": "3.9.6"
  }
 },
 "nbformat": 4,
 "nbformat_minor": 2
}
